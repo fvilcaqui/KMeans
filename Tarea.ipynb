{
 "cells": [
  {
   "cell_type": "code",
   "execution_count": null,
   "metadata": {},
   "outputs": [],
   "source": [
    "import pandas as pd\n",
    "import matplotlib.pyplot as plt\n",
    "from sklearn.preprocessing import MinMaxScaler\n",
    "from sklearn.cluster import KMeans\n",
    "\n",
    "clientes = pd.DataFrame({\"saldo\" : [50000, 45000, 48000, 43500, 47000, 52000, \n",
    "                                    20000, 26000, 25000, 23000, 21400, 18000,\n",
    "                                    8000, 12000, 6000, 14500, 12600, 7000],\n",
    "                         \n",
    "                         \"transacciones\": [25, 20, 16, 23, 25, 18,\n",
    "                                           23, 22, 24, 21, 27, 18,\n",
    "                                           8, 3, 6, 4, 9, 3]})\n",
    "\n",
    "escalador = MinMaxScaler().fit(clientes.values)\n",
    "\n",
    "clientes = pd.DataFrame(escalador.transform(clientes.values),\n",
    "                       columns=[\"saldo\", \"transacciones\"])\n",
    "\n",
    "kmeans = KMeans(n_clusters=7).fit(clientes.values)\n",
    "\n",
    "clientes[\"cluster\"] = kmeans.labels_\n",
    "\n",
    "# Instrucciones para graficar los clusters \n",
    "\n",
    "plt.figure(figsize=(6, 5), dpi=100)\n",
    "colores = [\"red\", \"blue\", \"orange\", \"black\", \"purple\", \"pink\", \"brown\"]\n",
    "\n",
    "for cluster in range(kmeans.n_clusters):\n",
    "    plt.scatter(clientes[clientes[\"cluster\"] == cluster][\"saldo\"],\n",
    "                clientes[clientes[\"cluster\"] == cluster][\"transacciones\"],\n",
    "                marker=\"o\", s=180, color=colores[cluster], alpha=0.5)\n",
    "    \n",
    "    plt.scatter(kmeans.cluster_centers_[cluster][0], \n",
    "                kmeans.cluster_centers_[cluster][1], \n",
    "                marker=\"P\", s=280, color=colores[cluster])\n",
    "\n",
    "plt.title(\"Clientes\", fontsize=20)\n",
    "plt.xlabel(\"Saldo en cuenta de ahorros (pesos)\", fontsize=15)\n",
    "plt.ylabel(\"Veces que usó tarjeta de crédito\", fontsize=15)\n",
    "plt.text(1.15, 0.2, \"K = %i\" % kmeans.n_clusters, fontsize=25)\n",
    "plt.text(1.15, 0, \"Inercia = %0.2f\" % kmeans.inertia_, fontsize=25)\n",
    "plt.xlim(-0.1, 1.1)\n",
    "plt.ylim(-0.1, 1.1)    \n",
    "plt.show()\n",
    "\n",
    "del clientes[\"cluster\"] \n"
   ]
  }
 ],
 "metadata": {
  "language_info": {
   "name": "python"
  }
 },
 "nbformat": 4,
 "nbformat_minor": 2
}
