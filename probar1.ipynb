{
 "cells": [
  {
   "cell_type": "code",
   "execution_count": null,
   "metadata": {},
   "outputs": [],
   "source": [
    "%matplotlib inline\n",
    "import numpy as np\n",
    "import matplotlib.pyplot as plt\n",
    "np.random.seed(7)\n",
    "\n",
    "x1 = np.random.standard_normal((100,2))*0.6+np.ones((100,2))\n",
    "x2 = np.random.standard_normal((100,2))*0.5-np.ones((100,2))\n",
    "x3 = np.random.standard_normal((100,2))*0.4-2*np.ones((100,2))+5\n",
    "X = np.concatenate((x1,x2,x3),axis=0)\n",
    "\n",
    "plt.plot(X[:,0],X[:,1],'k.')\n",
    "plt.show()\n",
    "%run Ejercicio1.py"
   ]
  }
 ],
 "metadata": {
  "language_info": {
   "name": "python"
  }
 },
 "nbformat": 4,
 "nbformat_minor": 2
}
